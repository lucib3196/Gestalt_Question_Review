{
 "cells": [
  {
   "cell_type": "markdown",
   "id": "8c41730e",
   "metadata": {},
   "source": [
    "## Memory\n"
   ]
  },
  {
   "cell_type": "code",
   "execution_count": 84,
   "id": "7be06890",
   "metadata": {},
   "outputs": [
    {
     "data": {
      "text/plain": [
       "{'foo': 'b', 'bar': ['a', 'b']}"
      ]
     },
     "execution_count": 84,
     "metadata": {},
     "output_type": "execute_result"
    }
   ],
   "source": [
    "from langgraph.graph import StateGraph, START, END\n",
    "from langgraph.checkpoint.memory import InMemorySaver\n",
    "from typing import Annotated\n",
    "from typing_extensions import TypedDict\n",
    "from operator import add\n",
    "\n",
    "\n",
    "class State(TypedDict):\n",
    "    foo: str\n",
    "    bar: Annotated[list[str], add]\n",
    "\n",
    "\n",
    "def node_a(state: State):\n",
    "    return {\"foo\": \"a\", \"bar\": [\"a\"]}\n",
    "\n",
    "\n",
    "def node_b(state: State):\n",
    "    return {\"foo\": \"b\", \"bar\": [\"b\"]}\n",
    "\n",
    "\n",
    "workflow = StateGraph(State)\n",
    "workflow.add_node(node_a)\n",
    "workflow.add_node(node_b)\n",
    "workflow.add_edge(START, \"node_a\")\n",
    "workflow.add_edge(\"node_a\", \"node_b\")\n",
    "workflow.add_edge(\"node_b\", END)\n",
    "\n",
    "checkpointer = InMemorySaver()\n",
    "graph = workflow.compile(checkpointer=checkpointer)\n",
    "config = {\"configurable\": {\"thread_id\": \"1\"}}\n",
    "graph.invoke({\"foo\": \"\"}, config)  # type: ignore"
   ]
  },
  {
   "cell_type": "code",
   "execution_count": 85,
   "id": "5ef21757",
   "metadata": {},
   "outputs": [
    {
     "data": {
      "text/plain": [
       "[StateSnapshot(values={'foo': 'b', 'bar': ['a', 'b']}, next=(), config={'configurable': {'thread_id': '1', 'checkpoint_ns': '', 'checkpoint_id': '1f077930-08bb-6295-8002-93bd955e08fc'}}, metadata={'source': 'loop', 'step': 2, 'parents': {}, 'thread_id': '1'}, created_at='2025-08-12T15:42:50.153814+00:00', parent_config={'configurable': {'thread_id': '1', 'checkpoint_ns': '', 'checkpoint_id': '1f077930-08b2-6b3e-8001-e2da8fd0a554'}}, tasks=(), interrupts=()),\n",
       " StateSnapshot(values={'foo': 'a', 'bar': ['a']}, next=('node_b',), config={'configurable': {'thread_id': '1', 'checkpoint_ns': '', 'checkpoint_id': '1f077930-08b2-6b3e-8001-e2da8fd0a554'}}, metadata={'source': 'loop', 'step': 1, 'parents': {}, 'thread_id': '1'}, created_at='2025-08-12T15:42:50.150354+00:00', parent_config={'configurable': {'thread_id': '1', 'checkpoint_ns': '', 'checkpoint_id': '1f077930-08ab-6646-8000-f138d992f45d'}}, tasks=(PregelTask(id='a45c4c80-070e-11ef-c870-bfa80379db40', name='node_b', path=('__pregel_pull', 'node_b'), error=None, interrupts=(), state=None, result={'foo': 'b', 'bar': ['b']}),), interrupts=()),\n",
       " StateSnapshot(values={'foo': '', 'bar': []}, next=('node_a',), config={'configurable': {'thread_id': '1', 'checkpoint_ns': '', 'checkpoint_id': '1f077930-08ab-6646-8000-f138d992f45d'}}, metadata={'source': 'loop', 'step': 0, 'parents': {}, 'thread_id': '1'}, created_at='2025-08-12T15:42:50.147354+00:00', parent_config={'configurable': {'thread_id': '1', 'checkpoint_ns': '', 'checkpoint_id': '1f077930-08a2-69f4-bfff-ee804885c06d'}}, tasks=(PregelTask(id='ec98a61b-3c3c-f4c7-a873-dc83a24896f2', name='node_a', path=('__pregel_pull', 'node_a'), error=None, interrupts=(), state=None, result={'foo': 'a', 'bar': ['a']}),), interrupts=()),\n",
       " StateSnapshot(values={'bar': []}, next=('__start__',), config={'configurable': {'thread_id': '1', 'checkpoint_ns': '', 'checkpoint_id': '1f077930-08a2-69f4-bfff-ee804885c06d'}}, metadata={'source': 'input', 'step': -1, 'parents': {}, 'thread_id': '1'}, created_at='2025-08-12T15:42:50.143762+00:00', parent_config=None, tasks=(PregelTask(id='c24afb7c-fda4-c763-5db6-7b0b606bf70c', name='__start__', path=('__pregel_pull', '__start__'), error=None, interrupts=(), state=None, result={'foo': ''}),), interrupts=())]"
      ]
     },
     "execution_count": 85,
     "metadata": {},
     "output_type": "execute_result"
    }
   ],
   "source": [
    "config = {\"configurable\": {\"thread_id\": \"1\"}}\n",
    "list(graph.get_state_history(config))  # type: ignore"
   ]
  },
  {
   "cell_type": "code",
   "execution_count": 86,
   "id": "6e0f584b",
   "metadata": {},
   "outputs": [],
   "source": [
    "user_id = \"1\"\n",
    "namespace_for_memory = (user_id, \"memories\")"
   ]
  },
  {
   "cell_type": "markdown",
   "id": "6eb49c76",
   "metadata": {},
   "source": [
    "## Question Extraction\n"
   ]
  },
  {
   "cell_type": "code",
   "execution_count": null,
   "id": "ffe11f66",
   "metadata": {},
   "outputs": [],
   "source": [
    "from pydantic import BaseModel, Field\n",
    "from typing import Literal, List, Optional, Union\n",
    "\n",
    "\n",
    "class ParamsBase(BaseModel):\n",
    "    name: str\n",
    "    value: Union[int, float, str]\n",
    "    units: Optional[str] = None\n",
    "\n",
    "    def format_name(self) -> str:\n",
    "        self.name = self.name.lower().strip().replace(\" \", \"_\")\n",
    "        return self.name\n",
    "\n",
    "    def format_expected(self) -> str:\n",
    "        formatted = \"Value Name:\" + self.format_name() + \" Value: \" + str(self.value)\n",
    "        if self.units:\n",
    "            unit_str = f\" Units: {self.units}\"\n",
    "            formatted += unit_str\n",
    "        return formatted\n",
    "\n",
    "\n",
    "class Question(BaseModel):\n",
    "    original_question: str\n",
    "    params: Optional[List[ParamsBase]] = Field(\n",
    "        description=\"A parameter found in the question text\"\n",
    "    )\n",
    "    correct_answer: Optional[List[ParamsBase]]\n",
    "\n",
    "\n",
    "from langchain.chat_models import init_chat_model\n",
    "from langchain_core.output_parsers import StrOutputParser\n",
    "from langchain_core.prompts import ChatPromptTemplate\n",
    "\n",
    "model = init_chat_model(\"gpt-5-mini\", model_provider=\"openai\")\n",
    "structured_llm = model.with_structured_output(Question)\n",
    "\n",
    "template = ChatPromptTemplate.from_messages(\n",
    "    [\n",
    "        (\n",
    "            \"system\",\n",
    "            \"\"\"\n",
    "    You are an assistant that only performs extraction. Do not solve, infer, or compute.\n",
    "\n",
    "Task:\n",
    "1) Return the original question text.\n",
    "2) Extract every value mentioned in the question and label each as either:\n",
    "   - \"parameter\": a value that appears directly in the question text.\n",
    "   - \"correct_answer\": only if the question explicitly states the answer (e.g., \"Answer: 42\", \"Correct answer is 7\", \"Expected output: 3.14\").\n",
    "\n",
    "Definition of “parameter” (must satisfy all):\n",
    "- The value is present verbatim in the question text (not derived by calculation).\n",
    "- It may be a number (integers, decimals, scientific notation), a constant (e.g., π), a symbol with an assigned value (e.g., g = 9.81 m/s^2), a boolean, a categorical/string choice, a range (e.g., 5–10), or a list of given values.\n",
    "- Keep units and symbols with the value when provided (e.g., \"2 kg\", \"30°\", \"9.81 m/s^2\").\n",
    "- If both a symbol and value are shown (e.g., \"mass m = 2 kg\"), record name=\"m\", value=\"2\", units=\"kg\" (also keep a raw field if helpful).\n",
    "\n",
    "Do NOT mark as parameters:\n",
    "- Values you can only obtain by calculation or domain knowledge.\n",
    "- Purely named variables without assigned values (e.g., \"let m be mass\").\n",
    "- Hints, defaults, or typical constants that are not explicitly provided in the text.\n",
    "- Information present only in an external figure/image unless described in text.\n",
    "\n",
    "Output JSON (only this object, no extra text):\n",
    "{\n",
    "  \"question_text\": \"<original question>\",\n",
    "  \"parameters\": [\n",
    "    { \"name\": \"<string|null>\", \"value\": \"<string>\", \"units\": \"<string|null>\", \"raw\": \"<verbatim snippet>\" }\n",
    "  ],\n",
    "  \"correct_answer\": { \"value\": \"<string>\", \"units\": \"<string|null>\", \"raw\": \"<verbatim snippet>\" } | null\n",
    "}\n",
    "\n",
    "Examples:\n",
    "\n",
    "Example 1 — Parameters only\n",
    "Input:\n",
    "\"A car travels at speed v = 20 m/s for time t = 5 s. Compute the distance traveled.\"\n",
    "Output:\n",
    "{\n",
    "  \"question_text\": \"A car travels at speed v = 20 m/s for time t = 5 s. Compute the distance traveled.\",\n",
    "  \"parameters\": [\n",
    "    { \"name\": \"v\", \"value\": \"20\", \"units\": \"m/s\", \"raw\": \"v = 20 m/s\" },\n",
    "    { \"name\": \"t\", \"value\": \"5\",  \"units\": \"s\",    \"raw\": \"t = 5 s\" }\n",
    "  ],\n",
    "  \"correct_answer\": null\n",
    "}\n",
    "\n",
    "Example 2 — Explicit correct_answer\n",
    "Input:\n",
    "\"What is the capital of France? Answer: Paris.\"\n",
    "Output:\n",
    "{\n",
    "  \"question_text\": \"What is the capital of France? Answer: Paris.\",\n",
    "  \"parameters\": [],\n",
    "  \"correct_answer\": { \"value\": \"Paris\", \"units\": null, \"raw\": \"Answer: Paris.\" }\n",
    "}\n",
    "\n",
    "Example 3 — Symbols and units\n",
    "Input:\n",
    "\"A block of mass m = 2 kg is on an incline of 30°. The friction coefficient is μ = 0.2. Use g = 9.81 m/s^2. Find the acceleration.\"\n",
    "Output:\n",
    "{\n",
    "  \"question_text\": \"A block of mass m = 2 kg is on an incline of 30°. The friction coefficient is μ = 0.2. Use g = 9.81 m/s^2. Find the acceleration.\",\n",
    "  \"parameters\": [\n",
    "    { \"name\": \"m\", \"value\": \"2\",     \"units\": \"kg\",      \"raw\": \"m = 2 kg\" },\n",
    "    { \"name\": incline, \"value\": \"30\",   \"units\": \"°\",       \"raw\": \"incline of 30°\" },\n",
    "    { \"name\": \"μ\", \"value\": \"0.2\",   \"units\": null,      \"raw\": \"μ = 0.2\" },\n",
    "    { \"name\": \"g\", \"value\": \"9.81\",  \"units\": \"m/s^2\",   \"raw\": \"g = 9.81 m/s^2\" }\n",
    "  ],\n",
    "  \"correct_answer\": null\n",
    "}\n",
    "\"\"\",\n",
    "        ),\n",
    "        (\"human\", \"{question}\"),\n",
    "    ]\n",
    ")\n",
    "prompt = \"\"\"\n",
    "Question:Two teenagers are pulling on ropes attached to a tree. The angle between the ropes is  30.0°. David pulls with a force of 400.0 N and Stephanie pulls with a force of 300.0 N. (a) Find the component form of the net force. (b) Find the magnitude of the resultant (net) force on the tree and the angle it makes with David’s rope.\n",
    " \n",
    " The correct answer is \n",
    " a) Fnet = 660.0i + 150.0 j\n",
    " b) 676.6 N at theta =12.8 degress from Davids Rope\n",
    "\"\"\"\n",
    "\n",
    "result = structured_llm.invoke(prompt)"
   ]
  },
  {
   "cell_type": "code",
   "execution_count": null,
   "id": "cb8ca549",
   "metadata": {},
   "outputs": [
    {
     "name": "stdout",
     "output_type": "stream",
     "text": [
      "Value Name:angle_between_ropes Value: 30.0 Units: degrees Value Type: Question Parameter\n",
      "\n",
      "Value Name:david_force Value: 400.0 Units: N Value Type: Question Parameter\n",
      "\n",
      "Value Name:stephanie_force Value: 300.0 Units: N Value Type: Question Parameter\n",
      "\n",
      "Value Name:fnet_x Value: 660.0 Units: N Value Type: Correct Answer\n",
      "\n",
      "Value Name:fnet_y Value: 150.0 Units: N Value Type: Correct Answer\n",
      "\n",
      "Value Name:resultant_magnitude Value: 676.6 Units: N Value Type: Correct Answer\n",
      "\n",
      "Value Name:theta_from_david Value: 12.8 Units: degrees Value Type: Correct Answer\n"
     ]
    }
   ],
   "source": [
    "def format_question_params(question: Question):\n",
    "    lines = []\n",
    "\n",
    "    for param in question.params or []:\n",
    "        result = param.format_expected()\n",
    "        if result is not None:\n",
    "            lines.append(str(result + f\" Value Type: Question Parameter\"))\n",
    "\n",
    "    for ans in question.correct_answer or []:\n",
    "        result = ans.format_expected()\n",
    "        if result is not None:\n",
    "            lines.append(str(result +  f\" Value Type: Correct Answer\") )\n",
    "\n",
    "    return \"\\n\\n\".join(lines)\n",
    "\n",
    "\n",
    "val = format_question_params(result)\n",
    "print(val)"
   ]
  },
  {
   "cell_type": "code",
   "execution_count": null,
   "id": "8f772174",
   "metadata": {},
   "outputs": [],
   "source": []
  }
 ],
 "metadata": {
  "kernelspec": {
   "display_name": "venv",
   "language": "python",
   "name": "python3"
  },
  "language_info": {
   "codemirror_mode": {
    "name": "ipython",
    "version": 3
   },
   "file_extension": ".py",
   "mimetype": "text/x-python",
   "name": "python",
   "nbconvert_exporter": "python",
   "pygments_lexer": "ipython3",
   "version": "3.13.1"
  }
 },
 "nbformat": 4,
 "nbformat_minor": 5
}
